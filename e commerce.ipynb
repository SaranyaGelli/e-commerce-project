{
  "metadata": {
    "kernelspec": {
      "name": "python",
      "display_name": "Python (Pyodide)",
      "language": "python"
    },
    "language_info": {
      "codemirror_mode": {
        "name": "python",
        "version": 3
      },
      "file_extension": ".py",
      "mimetype": "text/x-python",
      "name": "python",
      "nbconvert_exporter": "python",
      "pygments_lexer": "ipython3",
      "version": "3.8"
    }
  },
  "nbformat_minor": 5,
  "nbformat": 4,
  "cells": [
    {
      "id": "dabcfba6-45f1-4c5a-9bde-85a8064012f8",
      "cell_type": "code",
      "source": "import pandas as pd",
      "metadata": {
        "trusted": true
      },
      "outputs": [],
      "execution_count": null
    },
    {
      "id": "2713fe0c-2b75-411a-a106-b96b738c510f",
      "cell_type": "code",
      "source": "pip install plotly",
      "metadata": {
        "trusted": true
      },
      "outputs": [],
      "execution_count": null
    },
    {
      "id": "24f6790d-e6ab-437c-a135-f9ab35864c34",
      "cell_type": "code",
      "source": "import plotly.express as px\nimport plotly.graph_objects as go\nimport plotly.io as pio\nimport plotly.colors as colors\npio.templates.default = \"plotly_white\"\n",
      "metadata": {
        "trusted": true
      },
      "outputs": [],
      "execution_count": null
    },
    {
      "id": "9a22dc19-d27f-4562-92c4-100b79883d28",
      "cell_type": "code",
      "source": "data = pd.read_csv(\"Sample - Superstore.csv\", encoding = 'latin-1')",
      "metadata": {
        "trusted": true
      },
      "outputs": [],
      "execution_count": null
    },
    {
      "id": "5bd3c0bf-73f0-4c34-b56c-1a1df56103cf",
      "cell_type": "code",
      "source": "data.head()\n",
      "metadata": {
        "trusted": true
      },
      "outputs": [],
      "execution_count": null
    },
    {
      "id": "743c060e-b566-49af-b0bf-4765c3fab407",
      "cell_type": "code",
      "source": "data",
      "metadata": {
        "trusted": true
      },
      "outputs": [],
      "execution_count": null
    },
    {
      "id": "c0fbd1ec-0157-4809-a9bd-2b759dfd7c9c",
      "cell_type": "code",
      "source": "data.describe()",
      "metadata": {
        "trusted": true
      },
      "outputs": [],
      "execution_count": null
    },
    {
      "id": "88d1f1ff-ba44-4c71-b0fb-a6bfd1fd9821",
      "cell_type": "code",
      "source": "data.info()",
      "metadata": {
        "trusted": true
      },
      "outputs": [],
      "execution_count": null
    },
    {
      "id": "c5355e38-68d3-45b8-8e7c-ddb0b7f7cf18",
      "cell_type": "markdown",
      "source": "# converting data columns",
      "metadata": {}
    },
    {
      "id": "b3597193-5719-4bf5-bd93-3021f4632062",
      "cell_type": "code",
      "source": "data['Order Date'] = pd.to_datetime(data['Order Date'])\ndata['Ship Date'] = pd.to_datetime(data['Ship Date'])",
      "metadata": {
        "trusted": true
      },
      "outputs": [],
      "execution_count": null
    },
    {
      "id": "42aa6201-e732-4761-bc36-803c3cf05b72",
      "cell_type": "code",
      "source": "data.info()",
      "metadata": {
        "trusted": true
      },
      "outputs": [],
      "execution_count": null
    },
    {
      "id": "bc7601a3-5ecc-408a-a6d8-8f109b2f957f",
      "cell_type": "code",
      "source": "data.head()",
      "metadata": {
        "trusted": true
      },
      "outputs": [],
      "execution_count": null
    },
    {
      "id": "ab4d5cf8-bcff-42a7-9927-2fe895fcd52f",
      "cell_type": "code",
      "source": "data['Order Month'] = data['Order Date'].dt.month\ndata['Order Year'] = data['Order Date'].dt.year\ndata['Order Day of Week'] = data['Order Date'].dt.dayofweek",
      "metadata": {
        "trusted": true
      },
      "outputs": [],
      "execution_count": null
    },
    {
      "id": "1d82c0e5-b4a4-42be-b627-e05c7677e19d",
      "cell_type": "code",
      "source": "data.head()",
      "metadata": {
        "trusted": true
      },
      "outputs": [],
      "execution_count": null
    },
    {
      "id": "e41257bf-ec20-400e-99d8-f5dfb62a520e",
      "cell_type": "markdown",
      "source": "# Monthly  sales analysis",
      "metadata": {}
    },
    {
      "id": "144cb482-1021-4f71-8f97-efd70b89582b",
      "cell_type": "code",
      "source": "sales_by_month = data.groupby('Order Month')['Sales'].sum().reset_index()\n",
      "metadata": {
        "trusted": true
      },
      "outputs": [],
      "execution_count": null
    },
    {
      "id": "7acecd89-ed46-42c1-928c-31d610533a10",
      "cell_type": "code",
      "source": "sales_by_month",
      "metadata": {
        "trusted": true
      },
      "outputs": [],
      "execution_count": null
    },
    {
      "id": "8d41e83f-4997-4165-a480-bfd84cf8a5f7",
      "cell_type": "code",
      "source": "fig = px.line(sales_by_month, \n              x='Order Month', \n              y='Sales', \n              title='Monthly Sales Analysis')\nfig.show()",
      "metadata": {
        "trusted": true
      },
      "outputs": [],
      "execution_count": null
    },
    {
      "id": "c914854f-b0ba-4f5b-b11d-5b84a564ddd8",
      "cell_type": "code",
      "source": "data.head()",
      "metadata": {
        "trusted": true
      },
      "outputs": [],
      "execution_count": null
    },
    {
      "id": "c39eaa17-c703-4b48-a1fa-d1a134377071",
      "cell_type": "markdown",
      "source": "# Sales by Category",
      "metadata": {}
    },
    {
      "id": "0807c001-f65e-4adf-9ee2-66da3a5236b6",
      "cell_type": "code",
      "source": "sales_by_category = data.groupby('Category')['Sales'].sum().reset_index()",
      "metadata": {
        "trusted": true
      },
      "outputs": [],
      "execution_count": null
    },
    {
      "id": "d1cf9f2f-b074-471f-bf2c-a6a5e7edcfe8",
      "cell_type": "code",
      "source": "sales_by_category",
      "metadata": {
        "trusted": true
      },
      "outputs": [],
      "execution_count": null
    },
    {
      "id": "b24ee904-1d75-4fbb-8a14-a150e4c55606",
      "cell_type": "code",
      "source": "fig = px.pie(sales_by_category, \n             values='Sales', \n             names='Category', \n             hole=0.5, \n             color_discrete_sequence=px.colors.qualitative.Pastel)\n\nfig.update_traces(textposition='inside', textinfo='percent+label')\nfig.update_layout(title_text='Sales Analysis by Category', title_font=dict(size=24))\n\nfig.show()",
      "metadata": {
        "trusted": true
      },
      "outputs": [],
      "execution_count": null
    },
    {
      "id": "1b9d79d1-2990-4079-bb1e-fc4dc00be76d",
      "cell_type": "markdown",
      "source": "# Sales Analysis by Sub-Category",
      "metadata": {}
    },
    {
      "id": "ad095000-7c53-4322-b8ec-1a2aafb24c48",
      "cell_type": "code",
      "source": "sales_by_subcategory = data.groupby('Sub-Category')['Sales'].sum().reset_index()\n",
      "metadata": {
        "trusted": true
      },
      "outputs": [],
      "execution_count": null
    },
    {
      "id": "9c2b57a8-ffe8-4aa4-bb2b-784b4456ee83",
      "cell_type": "code",
      "source": "sales_by_subcategory",
      "metadata": {
        "trusted": true
      },
      "outputs": [],
      "execution_count": null
    },
    {
      "id": "1f820c4f-009e-457f-98f2-89f9a344d42a",
      "cell_type": "code",
      "source": "fig = px.bar(sales_by_subcategory, \n             x='Sub-Category', \n             y='Sales', \n             title='Sales Analysis by Sub-Category')\nfig.show()",
      "metadata": {
        "trusted": true
      },
      "outputs": [],
      "execution_count": null
    },
    {
      "id": "a982dfd1-a8ce-4995-a770-9ffcb2aee0c0",
      "cell_type": "markdown",
      "source": "# Monthly Profit Analysis",
      "metadata": {}
    },
    {
      "id": "1583d4da-a906-446f-99a2-416eb9304057",
      "cell_type": "code",
      "source": "profit_by_month = data.groupby('Order Month')['Profit'].sum().reset_index()",
      "metadata": {
        "trusted": true
      },
      "outputs": [],
      "execution_count": null
    },
    {
      "id": "319927be-01c7-4927-9829-3d4c73a094dd",
      "cell_type": "code",
      "source": "profit_by_month",
      "metadata": {
        "trusted": true
      },
      "outputs": [],
      "execution_count": null
    },
    {
      "id": "3b4e780a-25a6-42e4-9e05-724d27f9dfd9",
      "cell_type": "code",
      "source": "fig = px.line(profit_by_month, \n              x='Order Month', \n              y='Profit', \n              title='Monthly Profit Analysis')\nfig.show()",
      "metadata": {
        "trusted": true
      },
      "outputs": [],
      "execution_count": null
    },
    {
      "id": "875bd438-5a55-4edf-8c93-237e3b3a4ec5",
      "cell_type": "markdown",
      "source": "# Profit Analysis by Category",
      "metadata": {}
    },
    {
      "id": "f3814ae5-4497-4bf2-aafa-9e01ea73f901",
      "cell_type": "code",
      "source": "profit_by_category = data.groupby('Category')['Profit'].sum().reset_index()",
      "metadata": {
        "trusted": true
      },
      "outputs": [],
      "execution_count": null
    },
    {
      "id": "c1bc496f-f13e-47fd-8dd8-f00cbdf6ff84",
      "cell_type": "code",
      "source": "profit_by_category ",
      "metadata": {
        "trusted": true
      },
      "outputs": [],
      "execution_count": null
    },
    {
      "id": "8bc9260f-43f6-4c3d-8363-1ef4296651f2",
      "cell_type": "code",
      "source": "fig = px.pie(profit_by_category, \n             values='Profit', \n             names='Category', \n             hole=0.5, \n             color_discrete_sequence=px.colors.qualitative.Pastel)\n\nfig.update_traces(textposition='inside', textinfo='percent+label')\nfig.update_layout(title_text='Profit Analysis by Category', title_font=dict(size=24))\n\nfig.show()",
      "metadata": {
        "trusted": true
      },
      "outputs": [],
      "execution_count": null
    },
    {
      "id": "245a77d1-cac2-4364-a962-03ddb7c96444",
      "cell_type": "markdown",
      "source": "# Profit Analysis by Sub-Category",
      "metadata": {}
    },
    {
      "id": "d729570c-a519-43f9-9ada-bf3bd01bc50d",
      "cell_type": "code",
      "source": "profit_by_subcategory = data.groupby('Sub-Category')['Profit'].sum().reset_index()",
      "metadata": {
        "trusted": true
      },
      "outputs": [],
      "execution_count": null
    },
    {
      "id": "e5574565-545d-4756-85de-999ea5c7f316",
      "cell_type": "code",
      "source": "profit_by_subcategory",
      "metadata": {
        "trusted": true
      },
      "outputs": [],
      "execution_count": null
    },
    {
      "id": "f2352fbe-2834-4886-8dbb-eb2678a7789b",
      "cell_type": "code",
      "source": "fig = px.bar(profit_by_subcategory, x='Sub-Category', \n             y='Profit', \n             title='Profit Analysis by Sub-Category')\nfig.show()",
      "metadata": {
        "trusted": true
      },
      "outputs": [],
      "execution_count": null
    },
    {
      "id": "26c478e8-d656-430c-b6fb-1a14335ad50e",
      "cell_type": "markdown",
      "source": "# Sales and Profit Analysis by Customer Segment",
      "metadata": {}
    },
    {
      "id": "98aa2419-e2c4-47bb-a86d-74b17e94e225",
      "cell_type": "code",
      "source": "sales_profit_by_segment = data.groupby('Segment').agg({'Sales': 'sum', 'Profit': 'sum'}).reset_index()",
      "metadata": {
        "trusted": true
      },
      "outputs": [],
      "execution_count": null
    },
    {
      "id": "8cfa698c-4d18-4f89-a833-cda840e78e16",
      "cell_type": "code",
      "source": "sales_profit_by_segment",
      "metadata": {
        "trusted": true
      },
      "outputs": [],
      "execution_count": null
    },
    {
      "id": "6a37d740-d6c6-47b1-8f0a-76b8026fafc5",
      "cell_type": "code",
      "source": "color_palette = colors.qualitative.Pastel\n\nfig = go.Figure()\nfig.add_trace(go.Bar(x=sales_profit_by_segment['Segment'], \n                     y=sales_profit_by_segment['Sales'], \n                     name='Sales',\n                     marker_color=color_palette[0]))\n\nfig.add_trace(go.Bar(x=sales_profit_by_segment['Segment'], \n                     y=sales_profit_by_segment['Profit'], \n                     name='Profit',\n                     marker_color=color_palette[1]))\n\nfig.update_layout(title='Sales and Profit Analysis by Customer Segment',\n                  xaxis_title='Customer Segment', yaxis_title='Amount')\n\nfig.show()",
      "metadata": {
        "trusted": true
      },
      "outputs": [],
      "execution_count": null
    },
    {
      "id": "b8519d49-e335-4a6e-9192-4607c88e94ae",
      "cell_type": "markdown",
      "source": "# analyse sales-to-profit ratio",
      "metadata": {}
    },
    {
      "id": "e7b9026f-a59b-4fcf-8d7f-436ec0000c98",
      "cell_type": "code",
      "source": "sales_profit_by_segment = data.groupby('Segment').agg({'Sales': 'sum', 'Profit': 'sum'}).reset_index()\nsales_profit_by_segment['Sales_to_Profit_Ratio'] = sales_profit_by_segment['Sales'] / sales_profit_by_segment['Profit']\nprint(sales_profit_by_segment[['Segment', 'Sales_to_Profit_Ratio']])",
      "metadata": {
        "trusted": true
      },
      "outputs": [],
      "execution_count": null
    },
    {
      "id": "20cb74ae-e32a-4196-97f0-7f36222b11d3",
      "cell_type": "code",
      "source": "",
      "metadata": {
        "trusted": true
      },
      "outputs": [],
      "execution_count": null
    }
  ]
}